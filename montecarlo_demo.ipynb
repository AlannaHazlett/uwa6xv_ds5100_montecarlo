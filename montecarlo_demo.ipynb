{
 "cells": [
  {
   "cell_type": "markdown",
   "id": "85084ec0-2716-4952-9060-50f7871533d4",
   "metadata": {},
   "source": [
    "# Final Project Report\n",
    "\n",
    "* Class: DS 5100\n",
    "* Student Name: Alanna Hazlett\n",
    "* Student Net ID: uwa6xv\n",
    "* This URL:\\\n",
    "https://github.com/AlannaHazlett/uwa6xv_ds5100_montecarlo/blob/main/montecarlo_demo.ipynb"
   ]
  },
  {
   "cell_type": "markdown",
   "id": "acf756c1-ecaa-41dc-b6ca-d566eb94560b",
   "metadata": {},
   "source": [
    "# Instructions\n",
    "\n",
    "Follow the instructions in the [Final Project](https://ontoligent.github.io/DS5100-2023-07-R/notebooks/M00_FinalProject/FinalProjectInstructions.html) isntructions and put your work in this notebook.\n",
    "\n",
    "Total points for each subsection under **Deliverables** and **Scenarios** are given in parentheses.\n",
    "\n",
    "Breakdowns of points within subsections are specified within subsection instructions as bulleted lists.\n",
    "\n",
    "This project is worth **50 points**."
   ]
  },
  {
   "cell_type": "markdown",
   "id": "89dc7a32-f682-4402-8c1e-b6ccdb3e0e39",
   "metadata": {
    "tags": []
   },
   "source": [
    "# Deliverables"
   ]
  },
  {
   "cell_type": "markdown",
   "id": "d32cb273-9a40-4909-a7ce-51f6e4958d3c",
   "metadata": {},
   "source": [
    "## The Monte Carlo Module (10)\n",
    "\n",
    "- URL included, appropriately named (1).\n",
    "- Includes all three specified classes (3).\n",
    "- Includes at least all 12 specified methods (6; .5 each)."
   ]
  },
  {
   "cell_type": "markdown",
   "id": "f5f3b070-de9e-4de9-bfae-8974d184aa28",
   "metadata": {},
   "source": [
    "Put the URL to your GitHub repo here.\n",
    "\n",
    "Repo URL: https://github.com/AlannaHazlett/uwa6xv_ds5100_montecarlo"
   ]
  },
  {
   "cell_type": "markdown",
   "id": "162370fb-3729-4c85-b040-8c25b2c966d2",
   "metadata": {},
   "source": [
    "Paste a copyy of your module here.\n",
    "\n",
    "NOTE: Paste as text, not as code. Use triple backticks to wrap your code blocks."
   ]
  },
  {
   "cell_type": "markdown",
   "id": "436da18c-81fc-4501-90c0-f671c4229bdb",
   "metadata": {},
   "source": [
    "```\n",
    "import numpy as np\n",
    "import pandas as pd\n",
    "import itertools\n",
    "\n",
    "class Die():\n",
    "    '''Creates a die object that has elements, face values and weights.'''\n",
    "    def __init__(self,faces):\n",
    "        '''INPUT: faces, a numpy array comprised of numbers or letters.\n",
    "           Initializes the die object creating a pandas DataFrame with index of face values and a column of the weights, which are defaulted to one for each face value.\n",
    "           Checks to make sure faces is a numpy array and that the face values are distinct.'''\n",
    "        self.faces = faces\n",
    "        self.weights = [1.0 for i in self.faces]\n",
    "        self._df = pd.DataFrame(dict(faces=self.faces, weights=self.weights)).set_index(['faces'])\n",
    "                \n",
    "        if type(self.faces) != np.ndarray:\n",
    "            raise TypeError (\"faces must be NumPy Array\")\n",
    "        else:\n",
    "            pass\n",
    "        \n",
    "        _s = set()\n",
    "        for i in range(0,len(self.faces)):\n",
    "            _s.add(self.faces[i])\n",
    "        if (len(_s) != len(self.faces)):\n",
    "            raise ValueError (\"Each face of die must be distinct\")\n",
    "            \n",
    "            \n",
    "    def change_weight(self,face_value,new_weight):\n",
    "        '''Change the weight of a single face based on inputs.\n",
    "           INPUTS: face_value, an value that is present on the die that you wish to change.\n",
    "                   new_weight, an integer or float that will be assigned to the face of the die.'''\n",
    "        if face_value in self.faces:\n",
    "            if isinstance(new_weight, (float,int)):\n",
    "                self._df.loc[face_value, 'weights'] = new_weight\n",
    "            else: \n",
    "                raise TypeError (\"The new weight must be a number\")\n",
    "        else:\n",
    "            raise IndexError (\"The face value you entered to be changed is not currently on the die\")\n",
    "    \n",
    "    \n",
    "    def roll_die(self,num_roll = 1):\n",
    "        '''Rolls the die one or more times. \n",
    "           INPUT: num_roll, integer to dictate number of times to roll the die. One time is the default.\n",
    "           OUTPUT: outcome, list of the result(s) of roll(s).'''\n",
    "        outcome = [self._df.sample(weights=[i/sum(self._df.weights) for i in self._df.weights]).index[0] for i in range(num_roll)]\n",
    "        return outcome    \n",
    "   \n",
    "\n",
    "    def current_state(self):\n",
    "        '''Displays a pandas DataFrame of the current state of the die, comprising of the face values and weights.'''\n",
    "        return self._df\n",
    "            \n",
    "        \n",
    "class Game():\n",
    "    '''Utilizes die object(s) to play a game, store the results, and display the results.'''\n",
    "    def __init__(self,dice_in_play):\n",
    "        '''Initializes game object utilizing die objects.\n",
    "           INPUT: dice_in_play, a list of die objects. '''\n",
    "        self.dice_in_play = dice_in_play\n",
    "        \n",
    "        \n",
    "    def play(self,num_rolls):\n",
    "        '''Rolls the di(c)e passed into the game object. Stores the results in a pandas DataFrame in wide format with roll number as index, columns as die index value, and results as entries.\n",
    "           INPUT: num_rolls, an integer to specify number of times the di(c)e should be rolled.'''        \n",
    "        roll_result = []\n",
    "        for die in self.dice_in_play:\n",
    "            outcome = die.roll_die(num_rolls)\n",
    "            roll_result.append(outcome)\n",
    "        d_result = dict(enumerate(roll_result))\n",
    "        _df2 = pd.DataFrame(d_result)\n",
    "        _df2.index = np.arange(1, len(_df2) + 1)\n",
    "        _df2.index.name = \"Roll Number\"\n",
    "        self._df2 = _df2\n",
    "        \n",
    "        #List of dice indices\n",
    "        keys_list = list(d_result.keys())\n",
    "        self.keys_list = keys_list\n",
    "        \n",
    "    \n",
    "    def show_result(self,form = 'wide'):\n",
    "        '''Displays the pandas DataFrame of results. Checks to see if form argument is string of 'narrow' or 'wide'.\n",
    "           INPUT: form, string to specify display type of pandas DataFrame, as narrow or wide. Default display is in wide format with roll number as index, columns as die index value, and results as entries.\n",
    "           OUTPUT: self._df2 or narrow, pandas DataFrame of results.'''\n",
    "        if form == 'wide':\n",
    "            return self._df2\n",
    "        elif form == 'narrow': \n",
    "            narrow = pd.DataFrame(self._df2.stack([0]))\n",
    "            narrow.index.names = ['Roll Number','Die ID']\n",
    "            narrow.columns = ['Results']\n",
    "            return narrow\n",
    "        else:\n",
    "            raise ValueError (\"Results must be in 'wide' or 'narrow' form. Default is 'wide'.\")\n",
    "        \n",
    "\n",
    "class Analyzer():\n",
    "    '''Utilizes game object to analyze and display the results of the game.'''\n",
    "    \n",
    "    \n",
    "    def __init__(self,game):\n",
    "        '''Receives game object, checks to make sure it is a game object, and initalizes it.\n",
    "        INPUT: game object.'''\n",
    "        if isinstance(game, Game) == True:\n",
    "            self.game = game\n",
    "        else:\n",
    "            raise ValueError (\"Parameter passed must be a Game object\")\n",
    "       \n",
    "    \n",
    "    def jackpot(self):\n",
    "        '''Computes how many times the game resulted in all faces being the same.\n",
    "           OUTPUT: num_jackpot, an integer that indicates how many times the game resulted in all faces being the same.'''\n",
    "        num_jackpot = 0\n",
    "        num_jackpot = sum(self.game._df2.eq(self.game._df2.iloc[:, 0], axis=0).all(1)) \n",
    "        return num_jackpot  \n",
    "    \n",
    "    \n",
    "    def faces_per_roll(self):\n",
    "        '''Computes how many times a given face is rolled in each event.\n",
    "           OUTPUT: face_count_df, a pandas DataFrame with index of roll number, columns of face values, and entries for number of occurances.'''\n",
    "        face_count_df = self.game._df2.stack().groupby(level=0).value_counts().unstack(fill_value=0)\n",
    "        self.face_count_df = face_count_df\n",
    "        return face_count_df\n",
    "    \n",
    "    \n",
    "    def count_combo(self):\n",
    "        '''Computes the distinct combinations of faces rolled, along with their counts.\n",
    "           OUTPUT: combinations, a pandas DataFrame with Index of distinct combinations and a column for the associated counts.'''       \n",
    "        combinations = list(itertools.combinations_with_replacement(self.face_count_df,self.game._df2.shape[1]))    \n",
    "        combo = [str(list(i)) for i in combinations]\n",
    "        cc_df = pd.DataFrame(index = combo)\n",
    "        cc_df.index.names = ['Combinations']\n",
    "        cc_df['Count'] = 0\n",
    "        #Getting counts for cc_df by finding matching rows in self.game._df2\n",
    "        for i in range(1,len(self.game._df2) + 1):\n",
    "            match = str(sorted(list(self.game._df2.loc[i])))\n",
    "            cc_df.loc[match][0] = cc_df.loc[match][0] + 1\n",
    "        return cc_df\n",
    "    \n",
    "    \n",
    "    def count_permutation(self):           \n",
    "        '''Computes the distinct permutations of faces rolled, along with their counts.\n",
    "           OUTPUT: perm, a pandas DataFrame that has a MultiIndex of distinct permutations and a column for the associated counts. '''\n",
    "        perm = pd.DataFrame(self.game._df2.value_counts(self.game.keys_list).sort_index())\n",
    "        return perm        \n",
    "```"
   ]
  },
  {
   "cell_type": "markdown",
   "id": "6377727a-8f0a-491e-9f1c-d9dc225edd35",
   "metadata": {},
   "source": [
    "## Unitest Module (2)\n",
    "\n",
    "Paste a copy of your test module below.\n",
    "\n",
    "NOTE: Paste as text, not as code. Use triple backticks to wrap your code blocks.\n",
    "\n",
    "- All methods have at least one test method (1).\n",
    "- Each method employs one of Unittest's Assert methods (1)."
   ]
  },
  {
   "cell_type": "markdown",
   "id": "cf6b263a-dca8-4d0f-b7e5-5febc8b68eac",
   "metadata": {},
   "source": [
    "Write a unit test file using the Unittest package containing at least one method for each method in each of the three classes above. \\\n",
    "As a general rule, each test method should verify that the target method creates an appropriate data structure."
   ]
  },
  {
   "cell_type": "markdown",
   "id": "8a39bb85-8a51-4b1b-841e-e0c28504b43b",
   "metadata": {},
   "source": [
    "```\n",
    "import unittest\n",
    "import numpy as np\n",
    "import pandas as pd\n",
    "from montecarlo import Die, Game, Analyzer\n",
    "\n",
    "\n",
    "class DieTestSuite(unittest.TestCase):\n",
    "    def test_01_die_init(self):\n",
    "        # Create instance\n",
    "        die_test_object = Die(np.array([1,2,3,4,5,6]))\n",
    "        self.assertEqual(type(die_test_object._df),pd.core.frame.DataFrame)\n",
    "        \n",
    "    def test_02_change_weight(self):\n",
    "        # Create instance\n",
    "        die_test_object = Die(np.array([1,2,3,4,5,6]))\n",
    "        # Change weight \n",
    "        die_test_object.change_weight(1,5)\n",
    "        # Test change\n",
    "        self.assertEqual(die_test_object._df.iloc[0,0], 5)\n",
    "        self.assertEqual(type(die_test_object._df),pd.core.frame.DataFrame)  \n",
    "        \n",
    "    def test_03_roll_die(self):\n",
    "        # Create instance\n",
    "        die_test_object = Die(np.array([1,2,3,4,5,6]))\n",
    "        # Roll the die 5 times and test that it rolled 5 times\n",
    "        self.assertEqual(len(die_test_object.roll_die(5)),5)\n",
    "        \n",
    "    def test_04_current_state(self):\n",
    "        # Create instance\n",
    "        die_test_object = Die(np.array([1,2,3,4,5,6]))\n",
    "        die_test_object.change_weight(6,3)\n",
    "        # Tests\n",
    "        self.assertEqual(type(die_test_object.current_state()),pd.core.frame.DataFrame)   \n",
    "        \n",
    "          \n",
    "class GameTestSuite(unittest.TestCase): \n",
    "    \n",
    "    def test_05_game_init(self):\n",
    "        # Create Dice\n",
    "        die1 = Die(np.array([1,2,3,4,5,6]))\n",
    "        die2 = Die(np.array([1,2,3,4,5,6]))\n",
    "        die3 = Die(np.array([1,2,3,4,5,6]))\n",
    "        # Create Game\n",
    "        game_test_object = Game([die1,die2,die3])\n",
    "        self.assertTrue(isinstance(game_test_object,Game))\n",
    "        \n",
    "    def test_06_play(self):\n",
    "        # Create Dice\n",
    "        die1 = Die(np.array([1,2,3,4,5,6]))\n",
    "        die2 = Die(np.array([1,2,3,4,5,6]))\n",
    "        die3 = Die(np.array([1,2,3,4,5,6]))\n",
    "        # Create Game\n",
    "        game_test_object = Game([die1,die2,die3])\n",
    "        # Play game\n",
    "        game_test_object.play(5)\n",
    "        # Test\n",
    "        self.assertEqual(type(game_test_object._df2),pd.core.frame.DataFrame)\n",
    "        self.assertEqual(len(game_test_object._df2),5)\n",
    "                         \n",
    "    def test_07_show_result(self):\n",
    "        # Create Dice\n",
    "        die1 = Die(np.array([1,2,3,4,5,6]))\n",
    "        die2 = Die(np.array([1,2,3,4,5,6]))\n",
    "        die3 = Die(np.array([1,2,3,4,5,6]))\n",
    "        # Create Game\n",
    "        game_test_object = Game([die1,die2,die3])\n",
    "        # Play game\n",
    "        game_test_object.play(5)\n",
    "        # Test\n",
    "        self.assertEqual(type(game_test_object.show_result('wide')),pd.core.frame.DataFrame)\n",
    "        self.assertEqual(type(game_test_object.show_result('narrow')),pd.core.frame.DataFrame)\n",
    "        self.assertTrue(len(game_test_object.show_result('wide')) == 5)\n",
    "        self.assertTrue(len(game_test_object.show_result('narrow')) == 15)\n",
    "\n",
    "                         \n",
    "class AnalyzerTestSuite(unittest.TestCase):  \n",
    "                         \n",
    "    def test_08_analyze_init(self):\n",
    "        # Create Dice\n",
    "        die1 = Die(np.array([1,2,3,4,5,6]))\n",
    "        die2 = Die(np.array([1,2,3,4,5,6]))\n",
    "        die3 = Die(np.array([1,2,3,4,5,6]))\n",
    "        # Create Game\n",
    "        game1 = Game([die1,die2,die3])\n",
    "        # Play game\n",
    "        game1.play(5)                 \n",
    "        # Create Analyzer\n",
    "        analyze_test_object = Analyzer(game1)\n",
    "        self.assertTrue(isinstance(analyze_test_object, Analyzer))\n",
    "                         \n",
    "    def test_09_jackpot(self):\n",
    "        # Create Dice\n",
    "        die1 = Die(np.array([1,2,3,4,5,6]))\n",
    "        die2 = Die(np.array([1,2,3,4,5,6]))\n",
    "        die3 = Die(np.array([1,2,3,4,5,6]))\n",
    "        # Create Game\n",
    "        game1 = Game([die1,die2,die3]) \n",
    "        # Play game\n",
    "        game1.play(5)\n",
    "        # Create Analyzer\n",
    "        analyze_test_object = Analyzer(game1) \n",
    "        self.assertTrue(isinstance(analyze_test_object.jackpot(),int))\n",
    "                         \n",
    "    def test_10_faces_per_roll(self):\n",
    "        # Create Dice\n",
    "        die1 = Die(np.array([1,2,3,4,5,6]))\n",
    "        die2 = Die(np.array([1,2,3,4,5,6]))\n",
    "        die3 = Die(np.array([1,2,3,4,5,6]))\n",
    "        # Create Game\n",
    "        game1 = Game([die1,die2,die3]) \n",
    "        # Play game\n",
    "        game1.play(5)                 \n",
    "        # Create Analyzer\n",
    "        analyze_test_object = Analyzer(game1)\n",
    "        self.assertTrue(isinstance(analyze_test_object.faces_per_roll(),pd.core.frame.DataFrame))\n",
    "        self.assertEqual(len(analyze_test_object.faces_per_roll()),5)\n",
    "                         \n",
    "                         \n",
    "    def test_11_count_combo(self):\n",
    "        # Create Dice\n",
    "        die1 = Die(np.array([1,2,3,4,5,6]))\n",
    "        die2 = Die(np.array([1,2,3,4,5,6]))\n",
    "        die3 = Die(np.array([1,2,3,4,5,6]))\n",
    "        # Create Game\n",
    "        game1 = Game([die1,die2,die3])\n",
    "        # Play game\n",
    "        game1.play(5)                 \n",
    "        # Create Analyzer\n",
    "        analyze_test_object = Analyzer(game1)\n",
    "        analyze_test_object.faces_per_roll()\n",
    "        # Test\n",
    "        self.assertEqual(type(analyze_test_object.count_combo()),pd.core.frame.DataFrame)\n",
    "                         \n",
    "    def test_12_count_permutation(self):\n",
    "        # Create Dice\n",
    "        die1 = Die(np.array([1,2,3,4,5,6]))\n",
    "        die2 = Die(np.array([1,2,3,4,5,6]))\n",
    "        die3 = Die(np.array([1,2,3,4,5,6]))\n",
    "        # Create Game\n",
    "        game1 = Game([die1,die2,die3])\n",
    "        # Play game\n",
    "        game1.play(5)                 \n",
    "        # Create Analyzer\n",
    "        analyze_test_object = Analyzer(game1)\n",
    "        # Test\n",
    "        self.assertEqual(type(analyze_test_object.count_permutation()),pd.core.frame.DataFrame)\n",
    "   \n",
    "             \n",
    "if __name__ == '__main__':\n",
    "    \n",
    "    unittest.main(verbosity=3)\n",
    "```"
   ]
  },
  {
   "cell_type": "markdown",
   "id": "3e058d03-29bc-408f-b36d-0605b4f4b8c0",
   "metadata": {
    "tags": []
   },
   "source": [
    "## Unittest Results (3)\n",
    "\n",
    "Put a copy of the results of running your tests from the command line here.\n",
    "\n",
    "Again, paste as text using triple backticks.\n",
    "\n",
    "- All 12 specified methods return OK (3; .25 each)."
   ]
  },
  {
   "cell_type": "markdown",
   "id": "0bfe2099-11dd-42cd-bcd1-6fc9b899a106",
   "metadata": {},
   "source": [
    "```\n",
    "/home/uwa6xv/Documents/MSDS/DS5100/uwa6xv_ds5100_montecarlo/montecarlo\n",
    "-bash-4.4$python montecarlo_test.py \n",
    "test_08_analyze_init (__main__.AnalyzerTestSuite.test_08_analyze_init) ... ok\n",
    "test_09_jackpot (__main__.AnalyzerTestSuite.test_09_jackpot) ... ok\n",
    "test_10_faces_per_roll (__main__.AnalyzerTestSuite.test_10_faces_per_roll) ... ok\n",
    "test_11_count_combo (__main__.AnalyzerTestSuite.test_11_count_combo) ... ok\n",
    "test_12_count_permutation (__main__.AnalyzerTestSuite.test_12_count_permutation) ... ok\n",
    "test_01_die_init (__main__.DieTestSuite.test_01_die_init) ... ok\n",
    "test_02_change_weight (__main__.DieTestSuite.test_02_change_weight) ... ok\n",
    "test_03_roll_die (__main__.DieTestSuite.test_03_roll_die) ... ok\n",
    "test_04_current_state (__main__.DieTestSuite.test_04_current_state) ... ok\n",
    "test_05_game_init (__main__.GameTestSuite.test_05_game_init) ... ok\n",
    "test_06_play (__main__.GameTestSuite.test_06_play) ... ok\n",
    "test_07_show_result (__main__.GameTestSuite.test_07_show_result) ... ok\n",
    "----------------------------------------------------------------------\n",
    "Ran 12 tests in 0.079s\n",
    "OK\n",
    "```"
   ]
  },
  {
   "cell_type": "markdown",
   "id": "d9ffe8c5-eb2f-4ad1-af76-a46550e4c7ac",
   "metadata": {},
   "source": [
    "## Import (1)\n",
    "\n",
    "Import your module here. This import should refer to the code in your package directory.\n",
    "\n",
    "- Module successuflly imported (1)."
   ]
  },
  {
   "cell_type": "code",
   "execution_count": 1,
   "id": "a05dffb3-e6d6-4f78-9df4-5abd0cf74ca9",
   "metadata": {
    "tags": []
   },
   "outputs": [
    {
     "name": "stdout",
     "output_type": "stream",
     "text": [
      "Defaulting to user installation because normal site-packages is not writeable\n",
      "Requirement already satisfied: montecarlo in /home/uwa6xv/.local/lib/python3.11/site-packages (0.0.1)\n"
     ]
    }
   ],
   "source": [
    "!pip install montecarlo"
   ]
  },
  {
   "cell_type": "code",
   "execution_count": 2,
   "id": "dbbd6738-c8f0-4850-9f14-e9c909edc5e7",
   "metadata": {
    "tags": []
   },
   "outputs": [],
   "source": [
    "from montecarlo import montecarlo"
   ]
  },
  {
   "cell_type": "markdown",
   "id": "f30c4842-65b1-4556-98b6-3fe1a07e1371",
   "metadata": {},
   "source": [
    "## Help Docs (4)\n",
    "\n",
    "Show your docstring documentation by applying `help()` to your imported module.\n",
    "\n",
    "- All methods have a docstring (3; .25 each).\n",
    "- All classes have a docstring (1; .33 each)."
   ]
  },
  {
   "cell_type": "code",
   "execution_count": 3,
   "id": "bf4fbf1f-9885-471c-a0a6-e9ca90e160de",
   "metadata": {
    "tags": []
   },
   "outputs": [
    {
     "name": "stdout",
     "output_type": "stream",
     "text": [
      "Help on module montecarlo.montecarlo in montecarlo:\n",
      "\n",
      "NAME\n",
      "    montecarlo.montecarlo\n",
      "\n",
      "CLASSES\n",
      "    builtins.object\n",
      "        Analyzer\n",
      "        Die\n",
      "        Game\n",
      "    \n",
      "    class Analyzer(builtins.object)\n",
      "     |  Analyzer(game)\n",
      "     |  \n",
      "     |  Utilizes game object to analyze and display the results of the game.\n",
      "     |  \n",
      "     |  Methods defined here:\n",
      "     |  \n",
      "     |  __init__(self, game)\n",
      "     |      Receives game object, checks to make sure it is a game object, and initalizes it.\n",
      "     |      INPUT: game object.\n",
      "     |  \n",
      "     |  count_combo(self)\n",
      "     |      Computes the distinct combinations of faces rolled, along with their counts.\n",
      "     |      OUTPUT: combinations, a pandas DataFrame with Index of distinct combinations and a column for the associated counts.\n",
      "     |  \n",
      "     |  count_permutation(self)\n",
      "     |      Computes the distinct permutations of faces rolled, along with their counts.\n",
      "     |      OUTPUT: perm, a pandas DataFrame that has a MultiIndex of distinct permutations and a column for the associated counts.\n",
      "     |  \n",
      "     |  faces_per_roll(self)\n",
      "     |      Computes how many times a given face is rolled in each event.\n",
      "     |      OUTPUT: face_count_df, a pandas DataFrame with index of roll number, columns of face values, and entries for number of occurances.\n",
      "     |  \n",
      "     |  jackpot(self)\n",
      "     |      Computes how many times the game resulted in all faces being the same.\n",
      "     |      OUTPUT: num_jackpot, an integer that indicates how many times the game resulted in all faces being the same.\n",
      "     |  \n",
      "     |  ----------------------------------------------------------------------\n",
      "     |  Data descriptors defined here:\n",
      "     |  \n",
      "     |  __dict__\n",
      "     |      dictionary for instance variables (if defined)\n",
      "     |  \n",
      "     |  __weakref__\n",
      "     |      list of weak references to the object (if defined)\n",
      "    \n",
      "    class Die(builtins.object)\n",
      "     |  Die(faces)\n",
      "     |  \n",
      "     |  Creates a die object that has elements, face values and weights.\n",
      "     |  \n",
      "     |  Methods defined here:\n",
      "     |  \n",
      "     |  __init__(self, faces)\n",
      "     |      INPUT: faces, a numpy array comprised of numbers or letters.\n",
      "     |      Initializes the die object creating a pandas DataFrame with index of face values and a column of the weights, which are defaulted to one for each face value.\n",
      "     |      Checks to make sure faces is a numpy array and that the face values are distinct.\n",
      "     |  \n",
      "     |  change_weight(self, face_value, new_weight)\n",
      "     |      Change the weight of a single face based on inputs.\n",
      "     |      INPUTS: face_value, an value that is present on the die that you wish to change.\n",
      "     |              new_weight, an integer or float that will be assigned to the face of the die.\n",
      "     |  \n",
      "     |  current_state(self)\n",
      "     |      Displays a pandas DataFrame of the current state of the die, comprising of the face values and weights.\n",
      "     |  \n",
      "     |  roll_die(self, num_roll=1)\n",
      "     |      Rolls the die one or more times. \n",
      "     |      INPUT: num_roll, integer to dictate number of times to roll the die. One time is the default.\n",
      "     |      OUTPUT: outcome, list of the result(s) of roll(s).\n",
      "     |  \n",
      "     |  ----------------------------------------------------------------------\n",
      "     |  Data descriptors defined here:\n",
      "     |  \n",
      "     |  __dict__\n",
      "     |      dictionary for instance variables (if defined)\n",
      "     |  \n",
      "     |  __weakref__\n",
      "     |      list of weak references to the object (if defined)\n",
      "    \n",
      "    class Game(builtins.object)\n",
      "     |  Game(dice_in_play)\n",
      "     |  \n",
      "     |  Utilizes die object(s) to play a game, store the results, and display the results.\n",
      "     |  \n",
      "     |  Methods defined here:\n",
      "     |  \n",
      "     |  __init__(self, dice_in_play)\n",
      "     |      Initializes game object utilizing die objects.\n",
      "     |      INPUT: dice_in_play, a list of die objects.\n",
      "     |  \n",
      "     |  play(self, num_rolls)\n",
      "     |      Rolls the di(c)e passed into the game object. Stores the results in a pandas DataFrame in wide format with roll number as index, columns as die index value, and results as entries.\n",
      "     |      INPUT: num_rolls, an integer to specify number of times the di(c)e should be rolled.\n",
      "     |  \n",
      "     |  show_result(self, form='wide')\n",
      "     |      Displays the pandas DataFrame of results. Checks to see if form argument is string of 'narrow' or 'wide'.\n",
      "     |      INPUT: form, string to specify display type of pandas DataFrame, as narrow or wide. Default display is in wide format with roll number as index, columns as die index value, and results as entries.\n",
      "     |      OUTPUT: self._df2 or narrow, pandas DataFrame of results.\n",
      "     |  \n",
      "     |  ----------------------------------------------------------------------\n",
      "     |  Data descriptors defined here:\n",
      "     |  \n",
      "     |  __dict__\n",
      "     |      dictionary for instance variables (if defined)\n",
      "     |  \n",
      "     |  __weakref__\n",
      "     |      list of weak references to the object (if defined)\n",
      "\n",
      "FILE\n",
      "    /sfs/qumulo/qhome/uwa6xv/Documents/MSDS/DS5100/uwa6xv_ds5100_montecarlo/montecarlo/montecarlo.py\n",
      "\n",
      "\n"
     ]
    }
   ],
   "source": [
    "help(montecarlo)"
   ]
  },
  {
   "cell_type": "markdown",
   "id": "a9defa84-b395-4966-bd1c-5c6c2bb7ed68",
   "metadata": {},
   "source": [
    "## `README.md` File (3)\n",
    "\n",
    "Provide link to the README.md file of your project's repo.\n",
    "\n",
    "- Metadata section or info present (1).\n",
    "- Synopsis section showing how each class is called (1). (All must be included.)\n",
    "- API section listing all classes and methods (1). (All must be included.)"
   ]
  },
  {
   "cell_type": "markdown",
   "id": "ee090b33-d593-48a0-bf35-e739cea0942c",
   "metadata": {},
   "source": [
    "URL:https://github.com/AlannaHazlett/uwa6xv_ds5100_montecarlo/blob/main/README.md"
   ]
  },
  {
   "cell_type": "markdown",
   "id": "108604c8-8827-42ef-ab59-6b25428fc0ca",
   "metadata": {},
   "source": [
    "## Successful installation (2)\n",
    "\n",
    "Put a screenshot or paste a copy of a terminal session where you successfully install your module with pip.\n",
    "\n",
    "If pasting text, use a preformatted text block to show the results.\n",
    "\n",
    "- Installed with `pip` (1).\n",
    "- Successfully installed message appears (1)."
   ]
  },
  {
   "cell_type": "markdown",
   "id": "af505e27-e130-4d21-9fdd-5114d597aaf7",
   "metadata": {},
   "source": [
    "```\n",
    "/home/uwa6xv/Documents/MSDS/DS5100/uwa6xv_ds5100_montecarlo\n",
    "-bash-4.4$pip install .\n",
    "Defaulting to user installation because normal site-packages is not writeable\n",
    "Processing /sfs/qumulo/qhome/uwa6xv/Documents/MSDS/DS5100/uwa6xv_ds5100_montecarlo\n",
    "  Preparing metadata (setup.py) ... done\n",
    "Building wheels for collected packages: montecarlo\n",
    "  Building wheel for montecarlo (setup.py) ... done\n",
    "  Created wheel for montecarlo: filename=montecarlo-0.0.1-py3-none-any.whl size=5272 sha256=597721cf808956583813f0f9cc8cf1fbbc42012\n",
    "ae12b1b8a747c118fe03f8ee5\n",
    "  Stored in directory: /tmp/pip-ephem-wheel-cache-4z_epeyo/wheels/14/87/12/800a8a98d0b45b62073d241ab39aace8b127bd77527bd66965\n",
    "Successfully built montecarlo\n",
    "Installing collected packages: montecarlo\n",
    "  Attempting uninstall: montecarlo\n",
    "    Found existing installation: montecarlo 0.1.17\n",
    "    Uninstalling montecarlo-0.1.17:\n",
    "      Successfully uninstalled montecarlo-0.1.17\n",
    "Successfully installed montecarlo-0.0.1\n",
    "```"
   ]
  },
  {
   "cell_type": "markdown",
   "id": "7c44695d-d1b3-4edf-9f94-e64d7446f199",
   "metadata": {},
   "source": [
    "# Scenarios\n",
    "\n",
    "Use code blocks to perform the tasks for each scenario.\n",
    "\n",
    "Be sure the outputs are visible before submitting."
   ]
  },
  {
   "cell_type": "markdown",
   "id": "e2479eae-6fc9-44cd-b8d7-9b22cb501f2a",
   "metadata": {
    "tags": []
   },
   "source": [
    "## Scenario 1: A 2-headed Coin (9)\n",
    "\n",
    "Task 1. Create a fair coin (with faces $H$ and $T$) and one unfair coin in which one of the faces has a weight of $5$ and the others $1$.\n",
    "\n",
    "- Fair coin created (1).\n",
    "- Unfair coin created with weight as specified (1)."
   ]
  },
  {
   "cell_type": "code",
   "execution_count": 4,
   "id": "ddaf2e31-d63b-4f43-83cf-235a55f938ab",
   "metadata": {
    "tags": []
   },
   "outputs": [],
   "source": [
    "from montecarlo.montecarlo import Die, Game, Analyzer"
   ]
  },
  {
   "cell_type": "code",
   "execution_count": 5,
   "id": "0af0339b-4d81-4429-a87a-9971a3ff9e9d",
   "metadata": {
    "tags": []
   },
   "outputs": [],
   "source": [
    "import numpy as np\n",
    "import pandas as pd\n",
    "import itertools"
   ]
  },
  {
   "cell_type": "code",
   "execution_count": 6,
   "id": "55ce498e-c75f-4425-9e3e-b635bd6cd9e1",
   "metadata": {},
   "outputs": [
    {
     "data": {
      "text/html": [
       "<div>\n",
       "<style scoped>\n",
       "    .dataframe tbody tr th:only-of-type {\n",
       "        vertical-align: middle;\n",
       "    }\n",
       "\n",
       "    .dataframe tbody tr th {\n",
       "        vertical-align: top;\n",
       "    }\n",
       "\n",
       "    .dataframe thead th {\n",
       "        text-align: right;\n",
       "    }\n",
       "</style>\n",
       "<table border=\"1\" class=\"dataframe\">\n",
       "  <thead>\n",
       "    <tr style=\"text-align: right;\">\n",
       "      <th></th>\n",
       "      <th>weights</th>\n",
       "    </tr>\n",
       "    <tr>\n",
       "      <th>faces</th>\n",
       "      <th></th>\n",
       "    </tr>\n",
       "  </thead>\n",
       "  <tbody>\n",
       "    <tr>\n",
       "      <th>H</th>\n",
       "      <td>1.0</td>\n",
       "    </tr>\n",
       "    <tr>\n",
       "      <th>T</th>\n",
       "      <td>1.0</td>\n",
       "    </tr>\n",
       "  </tbody>\n",
       "</table>\n",
       "</div>"
      ],
      "text/plain": [
       "       weights\n",
       "faces         \n",
       "H          1.0\n",
       "T          1.0"
      ]
     },
     "execution_count": 6,
     "metadata": {},
     "output_type": "execute_result"
    }
   ],
   "source": [
    "coin_faces = np.array([\"H\",\"T\"])\n",
    "fair_coin = Die(coin_faces)\n",
    "fair_coin.current_state()"
   ]
  },
  {
   "cell_type": "code",
   "execution_count": 7,
   "id": "898b28a1-e842-4a7b-806a-e643f9321c8e",
   "metadata": {
    "tags": []
   },
   "outputs": [
    {
     "data": {
      "text/html": [
       "<div>\n",
       "<style scoped>\n",
       "    .dataframe tbody tr th:only-of-type {\n",
       "        vertical-align: middle;\n",
       "    }\n",
       "\n",
       "    .dataframe tbody tr th {\n",
       "        vertical-align: top;\n",
       "    }\n",
       "\n",
       "    .dataframe thead th {\n",
       "        text-align: right;\n",
       "    }\n",
       "</style>\n",
       "<table border=\"1\" class=\"dataframe\">\n",
       "  <thead>\n",
       "    <tr style=\"text-align: right;\">\n",
       "      <th></th>\n",
       "      <th>weights</th>\n",
       "    </tr>\n",
       "    <tr>\n",
       "      <th>faces</th>\n",
       "      <th></th>\n",
       "    </tr>\n",
       "  </thead>\n",
       "  <tbody>\n",
       "    <tr>\n",
       "      <th>H</th>\n",
       "      <td>5.0</td>\n",
       "    </tr>\n",
       "    <tr>\n",
       "      <th>T</th>\n",
       "      <td>1.0</td>\n",
       "    </tr>\n",
       "  </tbody>\n",
       "</table>\n",
       "</div>"
      ],
      "text/plain": [
       "       weights\n",
       "faces         \n",
       "H          5.0\n",
       "T          1.0"
      ]
     },
     "execution_count": 7,
     "metadata": {},
     "output_type": "execute_result"
    }
   ],
   "source": [
    "unfair_coin = Die(coin_faces)\n",
    "unfair_coin.change_weight(\"H\",5)\n",
    "unfair_coin.current_state()"
   ]
  },
  {
   "cell_type": "markdown",
   "id": "02b272ab-99da-4b6e-ac2a-555b73e09c07",
   "metadata": {},
   "source": [
    "Task 2. Play a game of $1000$ flips with two fair dice.\n",
    "\n",
    "- Play method called correclty and without error (1)."
   ]
  },
  {
   "cell_type": "code",
   "execution_count": 8,
   "id": "65c92601-d32d-4326-b215-74953aee27f2",
   "metadata": {},
   "outputs": [
    {
     "data": {
      "text/html": [
       "<div>\n",
       "<style scoped>\n",
       "    .dataframe tbody tr th:only-of-type {\n",
       "        vertical-align: middle;\n",
       "    }\n",
       "\n",
       "    .dataframe tbody tr th {\n",
       "        vertical-align: top;\n",
       "    }\n",
       "\n",
       "    .dataframe thead th {\n",
       "        text-align: right;\n",
       "    }\n",
       "</style>\n",
       "<table border=\"1\" class=\"dataframe\">\n",
       "  <thead>\n",
       "    <tr style=\"text-align: right;\">\n",
       "      <th></th>\n",
       "      <th>0</th>\n",
       "      <th>1</th>\n",
       "    </tr>\n",
       "    <tr>\n",
       "      <th>Roll Number</th>\n",
       "      <th></th>\n",
       "      <th></th>\n",
       "    </tr>\n",
       "  </thead>\n",
       "  <tbody>\n",
       "    <tr>\n",
       "      <th>1</th>\n",
       "      <td>H</td>\n",
       "      <td>H</td>\n",
       "    </tr>\n",
       "    <tr>\n",
       "      <th>2</th>\n",
       "      <td>H</td>\n",
       "      <td>H</td>\n",
       "    </tr>\n",
       "    <tr>\n",
       "      <th>3</th>\n",
       "      <td>T</td>\n",
       "      <td>T</td>\n",
       "    </tr>\n",
       "    <tr>\n",
       "      <th>4</th>\n",
       "      <td>H</td>\n",
       "      <td>H</td>\n",
       "    </tr>\n",
       "    <tr>\n",
       "      <th>5</th>\n",
       "      <td>H</td>\n",
       "      <td>H</td>\n",
       "    </tr>\n",
       "    <tr>\n",
       "      <th>...</th>\n",
       "      <td>...</td>\n",
       "      <td>...</td>\n",
       "    </tr>\n",
       "    <tr>\n",
       "      <th>996</th>\n",
       "      <td>H</td>\n",
       "      <td>T</td>\n",
       "    </tr>\n",
       "    <tr>\n",
       "      <th>997</th>\n",
       "      <td>H</td>\n",
       "      <td>T</td>\n",
       "    </tr>\n",
       "    <tr>\n",
       "      <th>998</th>\n",
       "      <td>T</td>\n",
       "      <td>T</td>\n",
       "    </tr>\n",
       "    <tr>\n",
       "      <th>999</th>\n",
       "      <td>H</td>\n",
       "      <td>H</td>\n",
       "    </tr>\n",
       "    <tr>\n",
       "      <th>1000</th>\n",
       "      <td>H</td>\n",
       "      <td>H</td>\n",
       "    </tr>\n",
       "  </tbody>\n",
       "</table>\n",
       "<p>1000 rows × 2 columns</p>\n",
       "</div>"
      ],
      "text/plain": [
       "             0  1\n",
       "Roll Number      \n",
       "1            H  H\n",
       "2            H  H\n",
       "3            T  T\n",
       "4            H  H\n",
       "5            H  H\n",
       "...         .. ..\n",
       "996          H  T\n",
       "997          H  T\n",
       "998          T  T\n",
       "999          H  H\n",
       "1000         H  H\n",
       "\n",
       "[1000 rows x 2 columns]"
      ]
     },
     "execution_count": 8,
     "metadata": {},
     "output_type": "execute_result"
    }
   ],
   "source": [
    "game1 = Game([fair_coin,fair_coin])\n",
    "game1.play(1000)\n",
    "game1.show_result()"
   ]
  },
  {
   "cell_type": "markdown",
   "id": "7d9c3dc8-22c1-4cae-81fb-d68d774a05d1",
   "metadata": {},
   "source": [
    "Task 3. Play another game (using a new Game object) of $1000$ flips, this time using two unfair dice and one fair die. For the second unfair die, you can use the same die object twice in the list of dice you pass to the Game object.\n",
    "\n",
    "- New game object created (1).\n",
    "- Play method called correclty and without error (1)."
   ]
  },
  {
   "cell_type": "code",
   "execution_count": 9,
   "id": "d4098bed-1eb2-4084-8d5e-9fda07c3be43",
   "metadata": {},
   "outputs": [
    {
     "data": {
      "text/html": [
       "<div>\n",
       "<style scoped>\n",
       "    .dataframe tbody tr th:only-of-type {\n",
       "        vertical-align: middle;\n",
       "    }\n",
       "\n",
       "    .dataframe tbody tr th {\n",
       "        vertical-align: top;\n",
       "    }\n",
       "\n",
       "    .dataframe thead th {\n",
       "        text-align: right;\n",
       "    }\n",
       "</style>\n",
       "<table border=\"1\" class=\"dataframe\">\n",
       "  <thead>\n",
       "    <tr style=\"text-align: right;\">\n",
       "      <th></th>\n",
       "      <th>0</th>\n",
       "      <th>1</th>\n",
       "      <th>2</th>\n",
       "    </tr>\n",
       "    <tr>\n",
       "      <th>Roll Number</th>\n",
       "      <th></th>\n",
       "      <th></th>\n",
       "      <th></th>\n",
       "    </tr>\n",
       "  </thead>\n",
       "  <tbody>\n",
       "    <tr>\n",
       "      <th>1</th>\n",
       "      <td>T</td>\n",
       "      <td>H</td>\n",
       "      <td>T</td>\n",
       "    </tr>\n",
       "    <tr>\n",
       "      <th>2</th>\n",
       "      <td>H</td>\n",
       "      <td>H</td>\n",
       "      <td>H</td>\n",
       "    </tr>\n",
       "    <tr>\n",
       "      <th>3</th>\n",
       "      <td>H</td>\n",
       "      <td>H</td>\n",
       "      <td>H</td>\n",
       "    </tr>\n",
       "    <tr>\n",
       "      <th>4</th>\n",
       "      <td>H</td>\n",
       "      <td>H</td>\n",
       "      <td>H</td>\n",
       "    </tr>\n",
       "    <tr>\n",
       "      <th>5</th>\n",
       "      <td>T</td>\n",
       "      <td>H</td>\n",
       "      <td>T</td>\n",
       "    </tr>\n",
       "    <tr>\n",
       "      <th>...</th>\n",
       "      <td>...</td>\n",
       "      <td>...</td>\n",
       "      <td>...</td>\n",
       "    </tr>\n",
       "    <tr>\n",
       "      <th>996</th>\n",
       "      <td>T</td>\n",
       "      <td>H</td>\n",
       "      <td>H</td>\n",
       "    </tr>\n",
       "    <tr>\n",
       "      <th>997</th>\n",
       "      <td>T</td>\n",
       "      <td>H</td>\n",
       "      <td>H</td>\n",
       "    </tr>\n",
       "    <tr>\n",
       "      <th>998</th>\n",
       "      <td>T</td>\n",
       "      <td>H</td>\n",
       "      <td>H</td>\n",
       "    </tr>\n",
       "    <tr>\n",
       "      <th>999</th>\n",
       "      <td>H</td>\n",
       "      <td>H</td>\n",
       "      <td>H</td>\n",
       "    </tr>\n",
       "    <tr>\n",
       "      <th>1000</th>\n",
       "      <td>H</td>\n",
       "      <td>H</td>\n",
       "      <td>H</td>\n",
       "    </tr>\n",
       "  </tbody>\n",
       "</table>\n",
       "<p>1000 rows × 3 columns</p>\n",
       "</div>"
      ],
      "text/plain": [
       "             0  1  2\n",
       "Roll Number         \n",
       "1            T  H  T\n",
       "2            H  H  H\n",
       "3            H  H  H\n",
       "4            H  H  H\n",
       "5            T  H  T\n",
       "...         .. .. ..\n",
       "996          T  H  H\n",
       "997          T  H  H\n",
       "998          T  H  H\n",
       "999          H  H  H\n",
       "1000         H  H  H\n",
       "\n",
       "[1000 rows x 3 columns]"
      ]
     },
     "execution_count": 9,
     "metadata": {},
     "output_type": "execute_result"
    }
   ],
   "source": [
    "game2 = Game([fair_coin,unfair_coin,unfair_coin])\n",
    "game2.play(1000)\n",
    "game2.show_result()"
   ]
  },
  {
   "cell_type": "markdown",
   "id": "f690ebfc-fe71-4eb2-976d-7ac80ca6c23f",
   "metadata": {},
   "source": [
    "Task 4. For each game, use an Analyzer object to determine the raw frequency of jackpots — i.e. getting either all $H$s or all $T$s.\n",
    "\n",
    "- Analyzer objecs instantiated for both games (1).\n",
    "- Raw frequencies reported for both (1)."
   ]
  },
  {
   "cell_type": "code",
   "execution_count": 10,
   "id": "b26b8b7e-3be7-4476-a9a4-37d97536729e",
   "metadata": {},
   "outputs": [
    {
     "name": "stdout",
     "output_type": "stream",
     "text": [
      "0  1\n",
      "H  H    264\n",
      "   T    254\n",
      "T  H    249\n",
      "   T    233\n",
      "Name: count, dtype: int64\n"
     ]
    },
    {
     "data": {
      "text/plain": [
       "497"
      ]
     },
     "execution_count": 10,
     "metadata": {},
     "output_type": "execute_result"
    }
   ],
   "source": [
    "analyzer1 = Analyzer(game1)\n",
    "print(analyzer1.game._df2.value_counts())\n",
    "analyzer1.jackpot()"
   ]
  },
  {
   "cell_type": "code",
   "execution_count": 11,
   "id": "c6369c8b-15b3-4af1-b2e7-6f7b137b6421",
   "metadata": {
    "tags": []
   },
   "outputs": [
    {
     "name": "stdout",
     "output_type": "stream",
     "text": [
      "0  1  2\n",
      "T  H  H    347\n",
      "H  H  H    338\n",
      "      T     79\n",
      "T  T  H     76\n",
      "H  T  H     69\n",
      "T  H  T     68\n",
      "H  T  T     12\n",
      "T  T  T     11\n",
      "Name: count, dtype: int64\n"
     ]
    },
    {
     "data": {
      "text/plain": [
       "349"
      ]
     },
     "execution_count": 11,
     "metadata": {},
     "output_type": "execute_result"
    }
   ],
   "source": [
    "analyzer2 = Analyzer(game2)\n",
    "print(analyzer2.game._df2.value_counts())\n",
    "analyzer2.jackpot()"
   ]
  },
  {
   "cell_type": "markdown",
   "id": "b73d233c-445e-40cd-8858-0c5e1f097105",
   "metadata": {},
   "source": [
    "Task 5. For each analyzer, compute relative frequency as the number of jackpots over the total number of rolls.\n",
    "\n",
    "- Both relative frequencies computed (1)."
   ]
  },
  {
   "cell_type": "code",
   "execution_count": 12,
   "id": "9a96b31b-1b9d-496e-be3e-4bf83c45ec3a",
   "metadata": {},
   "outputs": [
    {
     "data": {
      "text/plain": [
       "0.497"
      ]
     },
     "execution_count": 12,
     "metadata": {},
     "output_type": "execute_result"
    }
   ],
   "source": [
    "rel_freq1 = analyzer1.jackpot()/len(analyzer1.game._df2)\n",
    "rel_freq1"
   ]
  },
  {
   "cell_type": "code",
   "execution_count": 13,
   "id": "f898d716-b58a-4060-b24e-82fc83b70304",
   "metadata": {
    "tags": []
   },
   "outputs": [
    {
     "data": {
      "text/plain": [
       "0.349"
      ]
     },
     "execution_count": 13,
     "metadata": {},
     "output_type": "execute_result"
    }
   ],
   "source": [
    "rel_freq2 = analyzer2.jackpot()/len(analyzer2.game._df2)\n",
    "rel_freq2"
   ]
  },
  {
   "cell_type": "markdown",
   "id": "a6e1e734-7f5c-4721-8ba4-2f3a424cf984",
   "metadata": {},
   "source": [
    "Task 6. Show your results, comparing the two relative frequencies, in a simple bar chart.\n",
    "\n",
    "- Bar chart plotted and correct (1)."
   ]
  },
  {
   "cell_type": "code",
   "execution_count": 14,
   "id": "473fa67c-aa53-4aa3-a0b7-e8772b3f6ed3",
   "metadata": {},
   "outputs": [
    {
     "data": {
      "text/plain": [
       "<Axes: xlabel='Game'>"
      ]
     },
     "execution_count": 14,
     "metadata": {},
     "output_type": "execute_result"
    },
    {
     "data": {
      "image/png": "[encoded data removed]",
      "text/plain": [
       "<Figure size 640x480 with 1 Axes>"
      ]
     },
     "metadata": {},
     "output_type": "display_data"
    }
   ],
   "source": [
    "test_df = pd.DataFrame({'Game' :['1','2'], 'Rel. Freq.':[rel_freq1,rel_freq2]})\n",
    "test_df.plot.bar(x='Game',y='Rel. Freq.')"
   ]
  },
  {
   "cell_type": "markdown",
   "id": "725cfa5b-e4b7-47c9-86aa-8d9e1fe6c8c7",
   "metadata": {},
   "source": [
    "## Scenario 2: A 6-sided Die (9)\n",
    "\n",
    "Task 1. Create three dice, each with six sides having the faces 1 through 6.\n",
    "\n",
    "- Three die objects created (1)."
   ]
  },
  {
   "cell_type": "code",
   "execution_count": 15,
   "id": "6a8bc611-325a-4e05-88d5-980e0a2cf7c5",
   "metadata": {},
   "outputs": [],
   "source": [
    "faces = np.array([1,2,3,4,5,6])\n",
    "die1 = Die(faces)\n",
    "die2 = Die(faces)\n",
    "die3 = Die(faces)"
   ]
  },
  {
   "cell_type": "markdown",
   "id": "2ed3ad26-fbe9-43bd-9ad7-f683a4191d12",
   "metadata": {},
   "source": [
    "Task 2. Convert one of the dice to an unfair one by weighting the face $6$ five times more than the other weights (i.e. it has weight of 5 and the others a weight of 1 each).\n",
    "\n",
    "- Unfair die created with proper call to weight change method (1)."
   ]
  },
  {
   "cell_type": "code",
   "execution_count": 16,
   "id": "e33dd18f-7f90-456d-a680-61c08a328e21",
   "metadata": {},
   "outputs": [
    {
     "data": {
      "text/html": [
       "<div>\n",
       "<style scoped>\n",
       "    .dataframe tbody tr th:only-of-type {\n",
       "        vertical-align: middle;\n",
       "    }\n",
       "\n",
       "    .dataframe tbody tr th {\n",
       "        vertical-align: top;\n",
       "    }\n",
       "\n",
       "    .dataframe thead th {\n",
       "        text-align: right;\n",
       "    }\n",
       "</style>\n",
       "<table border=\"1\" class=\"dataframe\">\n",
       "  <thead>\n",
       "    <tr style=\"text-align: right;\">\n",
       "      <th></th>\n",
       "      <th>weights</th>\n",
       "    </tr>\n",
       "    <tr>\n",
       "      <th>faces</th>\n",
       "      <th></th>\n",
       "    </tr>\n",
       "  </thead>\n",
       "  <tbody>\n",
       "    <tr>\n",
       "      <th>1</th>\n",
       "      <td>1.0</td>\n",
       "    </tr>\n",
       "    <tr>\n",
       "      <th>2</th>\n",
       "      <td>1.0</td>\n",
       "    </tr>\n",
       "    <tr>\n",
       "      <th>3</th>\n",
       "      <td>1.0</td>\n",
       "    </tr>\n",
       "    <tr>\n",
       "      <th>4</th>\n",
       "      <td>1.0</td>\n",
       "    </tr>\n",
       "    <tr>\n",
       "      <th>5</th>\n",
       "      <td>1.0</td>\n",
       "    </tr>\n",
       "    <tr>\n",
       "      <th>6</th>\n",
       "      <td>5.0</td>\n",
       "    </tr>\n",
       "  </tbody>\n",
       "</table>\n",
       "</div>"
      ],
      "text/plain": [
       "       weights\n",
       "faces         \n",
       "1          1.0\n",
       "2          1.0\n",
       "3          1.0\n",
       "4          1.0\n",
       "5          1.0\n",
       "6          5.0"
      ]
     },
     "execution_count": 16,
     "metadata": {},
     "output_type": "execute_result"
    }
   ],
   "source": [
    "die1.change_weight(6,5)\n",
    "die1._df"
   ]
  },
  {
   "cell_type": "markdown",
   "id": "7f6c062a-4c5b-45b9-96b8-76a0354c7e47",
   "metadata": {},
   "source": [
    "Task 3. Convert another of the dice to be unfair by weighting the face $1$ five times more than the others.\n",
    "\n",
    "- Unfair die created with proper call to weight change method (1)."
   ]
  },
  {
   "cell_type": "code",
   "execution_count": 17,
   "id": "01133a4e-6b06-4246-8d90-8e6d6995be51",
   "metadata": {},
   "outputs": [
    {
     "data": {
      "text/html": [
       "<div>\n",
       "<style scoped>\n",
       "    .dataframe tbody tr th:only-of-type {\n",
       "        vertical-align: middle;\n",
       "    }\n",
       "\n",
       "    .dataframe tbody tr th {\n",
       "        vertical-align: top;\n",
       "    }\n",
       "\n",
       "    .dataframe thead th {\n",
       "        text-align: right;\n",
       "    }\n",
       "</style>\n",
       "<table border=\"1\" class=\"dataframe\">\n",
       "  <thead>\n",
       "    <tr style=\"text-align: right;\">\n",
       "      <th></th>\n",
       "      <th>weights</th>\n",
       "    </tr>\n",
       "    <tr>\n",
       "      <th>faces</th>\n",
       "      <th></th>\n",
       "    </tr>\n",
       "  </thead>\n",
       "  <tbody>\n",
       "    <tr>\n",
       "      <th>1</th>\n",
       "      <td>5.0</td>\n",
       "    </tr>\n",
       "    <tr>\n",
       "      <th>2</th>\n",
       "      <td>1.0</td>\n",
       "    </tr>\n",
       "    <tr>\n",
       "      <th>3</th>\n",
       "      <td>1.0</td>\n",
       "    </tr>\n",
       "    <tr>\n",
       "      <th>4</th>\n",
       "      <td>1.0</td>\n",
       "    </tr>\n",
       "    <tr>\n",
       "      <th>5</th>\n",
       "      <td>1.0</td>\n",
       "    </tr>\n",
       "    <tr>\n",
       "      <th>6</th>\n",
       "      <td>1.0</td>\n",
       "    </tr>\n",
       "  </tbody>\n",
       "</table>\n",
       "</div>"
      ],
      "text/plain": [
       "       weights\n",
       "faces         \n",
       "1          5.0\n",
       "2          1.0\n",
       "3          1.0\n",
       "4          1.0\n",
       "5          1.0\n",
       "6          1.0"
      ]
     },
     "execution_count": 17,
     "metadata": {},
     "output_type": "execute_result"
    }
   ],
   "source": [
    "die2.change_weight(1,5)\n",
    "die2._df"
   ]
  },
  {
   "cell_type": "markdown",
   "id": "f0ed31cb-0a3c-4eb2-b85e-6ed6b2eb6e58",
   "metadata": {},
   "source": [
    "Task 4. Play a game of $10000$ rolls with $5$ fair dice.\n",
    "\n",
    "- Game class properly instantiated (1). \n",
    "- Play method called properly (1)."
   ]
  },
  {
   "cell_type": "code",
   "execution_count": 18,
   "id": "e92395a4-9ed8-4cb0-8c85-38768a784ffc",
   "metadata": {},
   "outputs": [],
   "source": [
    "fair_die_game = Game([die3,die3,die3,die3,die3])"
   ]
  },
  {
   "cell_type": "code",
   "execution_count": 19,
   "id": "43af6994-9e25-4b2f-a23d-8648ddffda86",
   "metadata": {},
   "outputs": [
    {
     "data": {
      "text/html": [
       "<div>\n",
       "<style scoped>\n",
       "    .dataframe tbody tr th:only-of-type {\n",
       "        vertical-align: middle;\n",
       "    }\n",
       "\n",
       "    .dataframe tbody tr th {\n",
       "        vertical-align: top;\n",
       "    }\n",
       "\n",
       "    .dataframe thead th {\n",
       "        text-align: right;\n",
       "    }\n",
       "</style>\n",
       "<table border=\"1\" class=\"dataframe\">\n",
       "  <thead>\n",
       "    <tr style=\"text-align: right;\">\n",
       "      <th></th>\n",
       "      <th>0</th>\n",
       "      <th>1</th>\n",
       "      <th>2</th>\n",
       "      <th>3</th>\n",
       "      <th>4</th>\n",
       "    </tr>\n",
       "    <tr>\n",
       "      <th>Roll Number</th>\n",
       "      <th></th>\n",
       "      <th></th>\n",
       "      <th></th>\n",
       "      <th></th>\n",
       "      <th></th>\n",
       "    </tr>\n",
       "  </thead>\n",
       "  <tbody>\n",
       "    <tr>\n",
       "      <th>1</th>\n",
       "      <td>3</td>\n",
       "      <td>5</td>\n",
       "      <td>6</td>\n",
       "      <td>4</td>\n",
       "      <td>4</td>\n",
       "    </tr>\n",
       "    <tr>\n",
       "      <th>2</th>\n",
       "      <td>3</td>\n",
       "      <td>1</td>\n",
       "      <td>5</td>\n",
       "      <td>5</td>\n",
       "      <td>3</td>\n",
       "    </tr>\n",
       "    <tr>\n",
       "      <th>3</th>\n",
       "      <td>1</td>\n",
       "      <td>4</td>\n",
       "      <td>6</td>\n",
       "      <td>1</td>\n",
       "      <td>3</td>\n",
       "    </tr>\n",
       "    <tr>\n",
       "      <th>4</th>\n",
       "      <td>3</td>\n",
       "      <td>4</td>\n",
       "      <td>3</td>\n",
       "      <td>5</td>\n",
       "      <td>1</td>\n",
       "    </tr>\n",
       "    <tr>\n",
       "      <th>5</th>\n",
       "      <td>2</td>\n",
       "      <td>3</td>\n",
       "      <td>5</td>\n",
       "      <td>3</td>\n",
       "      <td>1</td>\n",
       "    </tr>\n",
       "    <tr>\n",
       "      <th>...</th>\n",
       "      <td>...</td>\n",
       "      <td>...</td>\n",
       "      <td>...</td>\n",
       "      <td>...</td>\n",
       "      <td>...</td>\n",
       "    </tr>\n",
       "    <tr>\n",
       "      <th>9996</th>\n",
       "      <td>1</td>\n",
       "      <td>2</td>\n",
       "      <td>5</td>\n",
       "      <td>1</td>\n",
       "      <td>5</td>\n",
       "    </tr>\n",
       "    <tr>\n",
       "      <th>9997</th>\n",
       "      <td>2</td>\n",
       "      <td>6</td>\n",
       "      <td>3</td>\n",
       "      <td>5</td>\n",
       "      <td>5</td>\n",
       "    </tr>\n",
       "    <tr>\n",
       "      <th>9998</th>\n",
       "      <td>5</td>\n",
       "      <td>6</td>\n",
       "      <td>4</td>\n",
       "      <td>6</td>\n",
       "      <td>3</td>\n",
       "    </tr>\n",
       "    <tr>\n",
       "      <th>9999</th>\n",
       "      <td>4</td>\n",
       "      <td>3</td>\n",
       "      <td>6</td>\n",
       "      <td>6</td>\n",
       "      <td>1</td>\n",
       "    </tr>\n",
       "    <tr>\n",
       "      <th>10000</th>\n",
       "      <td>4</td>\n",
       "      <td>2</td>\n",
       "      <td>4</td>\n",
       "      <td>3</td>\n",
       "      <td>2</td>\n",
       "    </tr>\n",
       "  </tbody>\n",
       "</table>\n",
       "<p>10000 rows × 5 columns</p>\n",
       "</div>"
      ],
      "text/plain": [
       "             0  1  2  3  4\n",
       "Roll Number               \n",
       "1            3  5  6  4  4\n",
       "2            3  1  5  5  3\n",
       "3            1  4  6  1  3\n",
       "4            3  4  3  5  1\n",
       "5            2  3  5  3  1\n",
       "...         .. .. .. .. ..\n",
       "9996         1  2  5  1  5\n",
       "9997         2  6  3  5  5\n",
       "9998         5  6  4  6  3\n",
       "9999         4  3  6  6  1\n",
       "10000        4  2  4  3  2\n",
       "\n",
       "[10000 rows x 5 columns]"
      ]
     },
     "execution_count": 19,
     "metadata": {},
     "output_type": "execute_result"
    }
   ],
   "source": [
    "fair_die_game.play(10000)\n",
    "fair_die_game.show_result()"
   ]
  },
  {
   "cell_type": "markdown",
   "id": "7814b402-46a4-40e5-8141-20e05c3e646b",
   "metadata": {},
   "source": [
    "Task 5. Play another game of $10000$ rolls, this time with $2$ unfair dice, one as defined in steps #2 and #3 respectively, and $3$ fair dice.\n",
    "\n",
    "- Game class properly instantiated (1). \n",
    "- Play method called properly (1)."
   ]
  },
  {
   "cell_type": "code",
   "execution_count": 20,
   "id": "7cd58fba-b2a5-4d5d-bc6d-2a7a68d18c4f",
   "metadata": {},
   "outputs": [
    {
     "data": {
      "text/html": [
       "<div>\n",
       "<style scoped>\n",
       "    .dataframe tbody tr th:only-of-type {\n",
       "        vertical-align: middle;\n",
       "    }\n",
       "\n",
       "    .dataframe tbody tr th {\n",
       "        vertical-align: top;\n",
       "    }\n",
       "\n",
       "    .dataframe thead th {\n",
       "        text-align: right;\n",
       "    }\n",
       "</style>\n",
       "<table border=\"1\" class=\"dataframe\">\n",
       "  <thead>\n",
       "    <tr style=\"text-align: right;\">\n",
       "      <th></th>\n",
       "      <th>0</th>\n",
       "      <th>1</th>\n",
       "      <th>2</th>\n",
       "      <th>3</th>\n",
       "      <th>4</th>\n",
       "    </tr>\n",
       "    <tr>\n",
       "      <th>Roll Number</th>\n",
       "      <th></th>\n",
       "      <th></th>\n",
       "      <th></th>\n",
       "      <th></th>\n",
       "      <th></th>\n",
       "    </tr>\n",
       "  </thead>\n",
       "  <tbody>\n",
       "    <tr>\n",
       "      <th>1</th>\n",
       "      <td>3</td>\n",
       "      <td>4</td>\n",
       "      <td>3</td>\n",
       "      <td>6</td>\n",
       "      <td>3</td>\n",
       "    </tr>\n",
       "    <tr>\n",
       "      <th>2</th>\n",
       "      <td>6</td>\n",
       "      <td>3</td>\n",
       "      <td>4</td>\n",
       "      <td>6</td>\n",
       "      <td>3</td>\n",
       "    </tr>\n",
       "    <tr>\n",
       "      <th>3</th>\n",
       "      <td>6</td>\n",
       "      <td>1</td>\n",
       "      <td>4</td>\n",
       "      <td>5</td>\n",
       "      <td>1</td>\n",
       "    </tr>\n",
       "    <tr>\n",
       "      <th>4</th>\n",
       "      <td>3</td>\n",
       "      <td>1</td>\n",
       "      <td>4</td>\n",
       "      <td>4</td>\n",
       "      <td>2</td>\n",
       "    </tr>\n",
       "    <tr>\n",
       "      <th>5</th>\n",
       "      <td>4</td>\n",
       "      <td>1</td>\n",
       "      <td>2</td>\n",
       "      <td>5</td>\n",
       "      <td>6</td>\n",
       "    </tr>\n",
       "    <tr>\n",
       "      <th>...</th>\n",
       "      <td>...</td>\n",
       "      <td>...</td>\n",
       "      <td>...</td>\n",
       "      <td>...</td>\n",
       "      <td>...</td>\n",
       "    </tr>\n",
       "    <tr>\n",
       "      <th>9996</th>\n",
       "      <td>6</td>\n",
       "      <td>1</td>\n",
       "      <td>3</td>\n",
       "      <td>4</td>\n",
       "      <td>6</td>\n",
       "    </tr>\n",
       "    <tr>\n",
       "      <th>9997</th>\n",
       "      <td>6</td>\n",
       "      <td>1</td>\n",
       "      <td>1</td>\n",
       "      <td>2</td>\n",
       "      <td>3</td>\n",
       "    </tr>\n",
       "    <tr>\n",
       "      <th>9998</th>\n",
       "      <td>6</td>\n",
       "      <td>1</td>\n",
       "      <td>2</td>\n",
       "      <td>6</td>\n",
       "      <td>1</td>\n",
       "    </tr>\n",
       "    <tr>\n",
       "      <th>9999</th>\n",
       "      <td>6</td>\n",
       "      <td>3</td>\n",
       "      <td>3</td>\n",
       "      <td>3</td>\n",
       "      <td>5</td>\n",
       "    </tr>\n",
       "    <tr>\n",
       "      <th>10000</th>\n",
       "      <td>6</td>\n",
       "      <td>1</td>\n",
       "      <td>5</td>\n",
       "      <td>5</td>\n",
       "      <td>3</td>\n",
       "    </tr>\n",
       "  </tbody>\n",
       "</table>\n",
       "<p>10000 rows × 5 columns</p>\n",
       "</div>"
      ],
      "text/plain": [
       "             0  1  2  3  4\n",
       "Roll Number               \n",
       "1            3  4  3  6  3\n",
       "2            6  3  4  6  3\n",
       "3            6  1  4  5  1\n",
       "4            3  1  4  4  2\n",
       "5            4  1  2  5  6\n",
       "...         .. .. .. .. ..\n",
       "9996         6  1  3  4  6\n",
       "9997         6  1  1  2  3\n",
       "9998         6  1  2  6  1\n",
       "9999         6  3  3  3  5\n",
       "10000        6  1  5  5  3\n",
       "\n",
       "[10000 rows x 5 columns]"
      ]
     },
     "execution_count": 20,
     "metadata": {},
     "output_type": "execute_result"
    }
   ],
   "source": [
    "unfair_die_game = Game([die1,die2,die3,die3,die3])\n",
    "unfair_die_game.play(10000)\n",
    "unfair_die_game.show_result()"
   ]
  },
  {
   "cell_type": "markdown",
   "id": "7b6cd372-2bb8-4df8-ade1-8f48bc300955",
   "metadata": {},
   "source": [
    "Task 6. For each game, use an Analyzer object to determine the relative frequency of jackpots and show your results, comparing the two relative frequencies, in a simple bar chart.\n",
    "\n",
    "- Jackpot methods called (1).\n",
    "- Graph produced (1)."
   ]
  },
  {
   "cell_type": "code",
   "execution_count": 21,
   "id": "4f9ebdda-2577-48c3-9afa-f963db6065c7",
   "metadata": {
    "tags": []
   },
   "outputs": [
    {
     "data": {
      "text/plain": [
       "0.0005"
      ]
     },
     "execution_count": 21,
     "metadata": {},
     "output_type": "execute_result"
    }
   ],
   "source": [
    "fair_die_analyze = Analyzer(fair_die_game)\n",
    "fair_die_jack_freq = fair_die_analyze.jackpot()/len(fair_die_analyze.game._df2)\n",
    "fair_die_jack_freq"
   ]
  },
  {
   "cell_type": "code",
   "execution_count": 22,
   "id": "0e3aa1ad-fd57-4e4b-9272-19b5070e0292",
   "metadata": {
    "tags": []
   },
   "outputs": [
    {
     "data": {
      "text/plain": [
       "0.0007"
      ]
     },
     "execution_count": 22,
     "metadata": {},
     "output_type": "execute_result"
    }
   ],
   "source": [
    "unfair_die_analyze = Analyzer(unfair_die_game)\n",
    "unfair_die_jack_freq = unfair_die_analyze.jackpot()/len(unfair_die_analyze.game._df2)\n",
    "unfair_die_jack_freq"
   ]
  },
  {
   "cell_type": "code",
   "execution_count": 23,
   "id": "bbdcf695-8937-406e-9b53-aa0b9ee3c59a",
   "metadata": {},
   "outputs": [
    {
     "data": {
      "text/plain": [
       "<Axes: xlabel='Game'>"
      ]
     },
     "execution_count": 23,
     "metadata": {},
     "output_type": "execute_result"
    },
    {
     "data": {
      "image/png": "[encoded data removed]",
      "text/plain": [
       "<Figure size 640x480 with 1 Axes>"
      ]
     },
     "metadata": {},
     "output_type": "display_data"
    }
   ],
   "source": [
    "test_df = pd.DataFrame({'Game' :['Fair Die Game','Unfair Die Game'], 'Rel. Freq.':[fair_die_jack_freq,unfair_die_jack_freq]})\n",
    "test_df.plot.bar(x='Game',y='Rel. Freq.')"
   ]
  },
  {
   "cell_type": "markdown",
   "id": "9f04e9be-8fcf-4ea4-a391-6614608285f8",
   "metadata": {},
   "source": [
    "## Scenario 3: Letters of the Alphabet (7)\n",
    "\n",
    "Task 1. Create a \"die\" of letters from $A$ to $Z$ with weights based on their frequency of usage as found in the data file `english_letters.txt`. Use the frequencies (i.e. raw counts) as weights.\n",
    "\n",
    "- Die correctly instantiated with source file data (1).\n",
    "- Weights properly applied using weight setting method (1)."
   ]
  },
  {
   "cell_type": "code",
   "execution_count": 24,
   "id": "b0ceb771-3cdf-4d8f-8c2c-020806bbb909",
   "metadata": {},
   "outputs": [
    {
     "name": "stdout",
     "output_type": "stream",
     "text": [
      "       weights\n",
      "faces         \n",
      "E          1.0\n",
      "T          1.0\n",
      "A          1.0\n",
      "O          1.0\n",
      "I          1.0\n",
      "N          1.0\n",
      "S          1.0\n",
      "R          1.0\n",
      "H          1.0\n",
      "L          1.0\n",
      "D          1.0\n",
      "C          1.0\n",
      "U          1.0\n",
      "M          1.0\n",
      "F          1.0\n",
      "G          1.0\n",
      "P          1.0\n",
      "W          1.0\n",
      "Y          1.0\n",
      "B          1.0\n",
      "V          1.0\n",
      "K          1.0\n",
      "J          1.0\n",
      "X          1.0\n",
      "Z          1.0\n",
      "Q          1.0\n"
     ]
    },
    {
     "data": {
      "text/html": [
       "<div>\n",
       "<style scoped>\n",
       "    .dataframe tbody tr th:only-of-type {\n",
       "        vertical-align: middle;\n",
       "    }\n",
       "\n",
       "    .dataframe tbody tr th {\n",
       "        vertical-align: top;\n",
       "    }\n",
       "\n",
       "    .dataframe thead th {\n",
       "        text-align: right;\n",
       "    }\n",
       "</style>\n",
       "<table border=\"1\" class=\"dataframe\">\n",
       "  <thead>\n",
       "    <tr style=\"text-align: right;\">\n",
       "      <th></th>\n",
       "      <th>weights</th>\n",
       "    </tr>\n",
       "    <tr>\n",
       "      <th>faces</th>\n",
       "      <th></th>\n",
       "    </tr>\n",
       "  </thead>\n",
       "  <tbody>\n",
       "    <tr>\n",
       "      <th>E</th>\n",
       "      <td>529117365.0</td>\n",
       "    </tr>\n",
       "    <tr>\n",
       "      <th>T</th>\n",
       "      <td>390965105.0</td>\n",
       "    </tr>\n",
       "    <tr>\n",
       "      <th>A</th>\n",
       "      <td>374061888.0</td>\n",
       "    </tr>\n",
       "    <tr>\n",
       "      <th>O</th>\n",
       "      <td>326627740.0</td>\n",
       "    </tr>\n",
       "    <tr>\n",
       "      <th>I</th>\n",
       "      <td>320410057.0</td>\n",
       "    </tr>\n",
       "    <tr>\n",
       "      <th>N</th>\n",
       "      <td>313720540.0</td>\n",
       "    </tr>\n",
       "    <tr>\n",
       "      <th>S</th>\n",
       "      <td>294300210.0</td>\n",
       "    </tr>\n",
       "    <tr>\n",
       "      <th>R</th>\n",
       "      <td>277000841.0</td>\n",
       "    </tr>\n",
       "    <tr>\n",
       "      <th>H</th>\n",
       "      <td>216768975.0</td>\n",
       "    </tr>\n",
       "    <tr>\n",
       "      <th>L</th>\n",
       "      <td>183996130.0</td>\n",
       "    </tr>\n",
       "    <tr>\n",
       "      <th>D</th>\n",
       "      <td>169330528.0</td>\n",
       "    </tr>\n",
       "    <tr>\n",
       "      <th>C</th>\n",
       "      <td>138416451.0</td>\n",
       "    </tr>\n",
       "    <tr>\n",
       "      <th>U</th>\n",
       "      <td>117295780.0</td>\n",
       "    </tr>\n",
       "    <tr>\n",
       "      <th>M</th>\n",
       "      <td>110504544.0</td>\n",
       "    </tr>\n",
       "    <tr>\n",
       "      <th>F</th>\n",
       "      <td>95422055.0</td>\n",
       "    </tr>\n",
       "    <tr>\n",
       "      <th>G</th>\n",
       "      <td>91258980.0</td>\n",
       "    </tr>\n",
       "    <tr>\n",
       "      <th>P</th>\n",
       "      <td>90376747.0</td>\n",
       "    </tr>\n",
       "    <tr>\n",
       "      <th>W</th>\n",
       "      <td>79843664.0</td>\n",
       "    </tr>\n",
       "    <tr>\n",
       "      <th>Y</th>\n",
       "      <td>75294515.0</td>\n",
       "    </tr>\n",
       "    <tr>\n",
       "      <th>B</th>\n",
       "      <td>70195826.0</td>\n",
       "    </tr>\n",
       "    <tr>\n",
       "      <th>V</th>\n",
       "      <td>46337161.0</td>\n",
       "    </tr>\n",
       "    <tr>\n",
       "      <th>K</th>\n",
       "      <td>35373464.0</td>\n",
       "    </tr>\n",
       "    <tr>\n",
       "      <th>J</th>\n",
       "      <td>9613410.0</td>\n",
       "    </tr>\n",
       "    <tr>\n",
       "      <th>X</th>\n",
       "      <td>8369915.0</td>\n",
       "    </tr>\n",
       "    <tr>\n",
       "      <th>Z</th>\n",
       "      <td>4975847.0</td>\n",
       "    </tr>\n",
       "    <tr>\n",
       "      <th>Q</th>\n",
       "      <td>4550166.0</td>\n",
       "    </tr>\n",
       "  </tbody>\n",
       "</table>\n",
       "</div>"
      ],
      "text/plain": [
       "           weights\n",
       "faces             \n",
       "E      529117365.0\n",
       "T      390965105.0\n",
       "A      374061888.0\n",
       "O      326627740.0\n",
       "I      320410057.0\n",
       "N      313720540.0\n",
       "S      294300210.0\n",
       "R      277000841.0\n",
       "H      216768975.0\n",
       "L      183996130.0\n",
       "D      169330528.0\n",
       "C      138416451.0\n",
       "U      117295780.0\n",
       "M      110504544.0\n",
       "F       95422055.0\n",
       "G       91258980.0\n",
       "P       90376747.0\n",
       "W       79843664.0\n",
       "Y       75294515.0\n",
       "B       70195826.0\n",
       "V       46337161.0\n",
       "K       35373464.0\n",
       "J        9613410.0\n",
       "X        8369915.0\n",
       "Z        4975847.0\n",
       "Q        4550166.0"
      ]
     },
     "execution_count": 24,
     "metadata": {},
     "output_type": "execute_result"
    }
   ],
   "source": [
    "letters = pd.read_csv(\"english_letters.txt\", sep=\" \", header=None, names = [\"Letter\",\"Frequency\"])\n",
    "\n",
    "let_nump = letters[\"Letter\"].to_numpy()\n",
    "freq_list = list(letters[\"Frequency\"])\n",
    "letter_die = Die(let_nump)\n",
    "print(letter_die.current_state())\n",
    "\n",
    "for i in range(len(freq_list)):\n",
    "    letter_die.change_weight(let_nump[i],freq_list[i]) \n",
    "    \n",
    "letter_die.current_state()"
   ]
  },
  {
   "cell_type": "markdown",
   "id": "88e2e14a-6223-470a-a2c8-bca1120d7a5b",
   "metadata": {},
   "source": [
    "Task 2. Play a game involving $4$ of these dice with $1000$ rolls.\n",
    "\n",
    "- Game play method properly called (1)."
   ]
  },
  {
   "cell_type": "code",
   "execution_count": 25,
   "id": "2ae087cc-936d-4f1e-bddb-a7c179d139e0",
   "metadata": {},
   "outputs": [
    {
     "data": {
      "text/html": [
       "<div>\n",
       "<style scoped>\n",
       "    .dataframe tbody tr th:only-of-type {\n",
       "        vertical-align: middle;\n",
       "    }\n",
       "\n",
       "    .dataframe tbody tr th {\n",
       "        vertical-align: top;\n",
       "    }\n",
       "\n",
       "    .dataframe thead th {\n",
       "        text-align: right;\n",
       "    }\n",
       "</style>\n",
       "<table border=\"1\" class=\"dataframe\">\n",
       "  <thead>\n",
       "    <tr style=\"text-align: right;\">\n",
       "      <th></th>\n",
       "      <th>0</th>\n",
       "      <th>1</th>\n",
       "      <th>2</th>\n",
       "      <th>3</th>\n",
       "    </tr>\n",
       "    <tr>\n",
       "      <th>Roll Number</th>\n",
       "      <th></th>\n",
       "      <th></th>\n",
       "      <th></th>\n",
       "      <th></th>\n",
       "    </tr>\n",
       "  </thead>\n",
       "  <tbody>\n",
       "    <tr>\n",
       "      <th>1</th>\n",
       "      <td>F</td>\n",
       "      <td>W</td>\n",
       "      <td>A</td>\n",
       "      <td>C</td>\n",
       "    </tr>\n",
       "    <tr>\n",
       "      <th>2</th>\n",
       "      <td>T</td>\n",
       "      <td>C</td>\n",
       "      <td>S</td>\n",
       "      <td>O</td>\n",
       "    </tr>\n",
       "    <tr>\n",
       "      <th>3</th>\n",
       "      <td>O</td>\n",
       "      <td>H</td>\n",
       "      <td>R</td>\n",
       "      <td>U</td>\n",
       "    </tr>\n",
       "    <tr>\n",
       "      <th>4</th>\n",
       "      <td>O</td>\n",
       "      <td>H</td>\n",
       "      <td>I</td>\n",
       "      <td>S</td>\n",
       "    </tr>\n",
       "    <tr>\n",
       "      <th>5</th>\n",
       "      <td>O</td>\n",
       "      <td>A</td>\n",
       "      <td>O</td>\n",
       "      <td>A</td>\n",
       "    </tr>\n",
       "    <tr>\n",
       "      <th>...</th>\n",
       "      <td>...</td>\n",
       "      <td>...</td>\n",
       "      <td>...</td>\n",
       "      <td>...</td>\n",
       "    </tr>\n",
       "    <tr>\n",
       "      <th>996</th>\n",
       "      <td>H</td>\n",
       "      <td>P</td>\n",
       "      <td>F</td>\n",
       "      <td>A</td>\n",
       "    </tr>\n",
       "    <tr>\n",
       "      <th>997</th>\n",
       "      <td>C</td>\n",
       "      <td>T</td>\n",
       "      <td>E</td>\n",
       "      <td>R</td>\n",
       "    </tr>\n",
       "    <tr>\n",
       "      <th>998</th>\n",
       "      <td>B</td>\n",
       "      <td>D</td>\n",
       "      <td>O</td>\n",
       "      <td>R</td>\n",
       "    </tr>\n",
       "    <tr>\n",
       "      <th>999</th>\n",
       "      <td>R</td>\n",
       "      <td>R</td>\n",
       "      <td>N</td>\n",
       "      <td>V</td>\n",
       "    </tr>\n",
       "    <tr>\n",
       "      <th>1000</th>\n",
       "      <td>F</td>\n",
       "      <td>I</td>\n",
       "      <td>P</td>\n",
       "      <td>R</td>\n",
       "    </tr>\n",
       "  </tbody>\n",
       "</table>\n",
       "<p>1000 rows × 4 columns</p>\n",
       "</div>"
      ],
      "text/plain": [
       "             0  1  2  3\n",
       "Roll Number            \n",
       "1            F  W  A  C\n",
       "2            T  C  S  O\n",
       "3            O  H  R  U\n",
       "4            O  H  I  S\n",
       "5            O  A  O  A\n",
       "...         .. .. .. ..\n",
       "996          H  P  F  A\n",
       "997          C  T  E  R\n",
       "998          B  D  O  R\n",
       "999          R  R  N  V\n",
       "1000         F  I  P  R\n",
       "\n",
       "[1000 rows x 4 columns]"
      ]
     },
     "execution_count": 25,
     "metadata": {},
     "output_type": "execute_result"
    }
   ],
   "source": [
    "letter_game = Game([letter_die,letter_die,letter_die,letter_die])\n",
    "letter_game.play(1000)\n",
    "letter_game.show_result()"
   ]
  },
  {
   "cell_type": "markdown",
   "id": "3b9ff800-bf1f-4f66-9d7f-ff57a648e9f0",
   "metadata": {},
   "source": [
    "Task 3. Determine how many permutations in your results are actual English words, based on the vocabulary found in `scrabble_words.txt`.\n",
    "\n",
    "- Use permutation method (1).\n",
    "- Get count as difference between permutations and vocabulary (1)."
   ]
  },
  {
   "cell_type": "code",
   "execution_count": 26,
   "id": "ed1c7fa0-cfa3-4cf4-9fd0-9f84b86b0f64",
   "metadata": {},
   "outputs": [
    {
     "data": {
      "text/plain": [
       "['AAOY', 'AAUS', 'AAVF', 'ABDH', 'ABVT']"
      ]
     },
     "execution_count": 26,
     "metadata": {},
     "output_type": "execute_result"
    }
   ],
   "source": [
    "letter_analyze = Analyzer(letter_game)\n",
    "letter_result_df = letter_analyze.count_permutation()\n",
    "#Change MultiIndex into One Column\n",
    "perm_as_col = letter_analyze.count_permutation().reset_index()\n",
    "perm_as_col['Words'] = perm_as_col[perm_as_col.columns[:4]].apply(lambda x: ''.join(x.astype(str)),axis=1)\n",
    "#Create List of Column values\n",
    "perm_as_col_list = perm_as_col['Words'].values.tolist()\n",
    "perm_as_col_list[:5]"
   ]
  },
  {
   "cell_type": "code",
   "execution_count": 27,
   "id": "d23fe419-f4e3-41ff-b16e-5aa2016b5159",
   "metadata": {
    "tags": []
   },
   "outputs": [
    {
     "data": {
      "text/plain": [
       "['AAHS', 'AALS', 'ABAC', 'ABAS', 'ABBA']"
      ]
     },
     "execution_count": 27,
     "metadata": {},
     "output_type": "execute_result"
    }
   ],
   "source": [
    "scrabble_words = pd.read_csv(\"scrabble_words.txt\", sep=\" \", header=None, names = [\"Words\"])\n",
    "scrabble_words_4=scrabble_words[scrabble_words.Words.apply(lambda x: len(str(x)))==4]\n",
    "#Make List of Column values\n",
    "scrabble_4_list = scrabble_words_4['Words'].values.tolist()\n",
    "scrabble_4_list[:5]"
   ]
  },
  {
   "cell_type": "code",
   "execution_count": 28,
   "id": "463c2606-72ae-4d71-9443-597c0f50282d",
   "metadata": {
    "tags": []
   },
   "outputs": [
    {
     "name": "stdout",
     "output_type": "stream",
     "text": [
      "There are 50 four letter words created in the game that are recognized by Scrabble.\n"
     ]
    }
   ],
   "source": [
    "word_4_count=0\n",
    "for item in perm_as_col_list:\n",
    "    if item in scrabble_4_list:\n",
    "        word_4_count = word_4_count + 1\n",
    "print(f\"There are {word_4_count} four letter words created in the game that are recognized by Scrabble.\")"
   ]
  },
  {
   "cell_type": "markdown",
   "id": "fcf068cf-381a-4b3e-ac3a-0510eb4dbdb0",
   "metadata": {},
   "source": [
    "Task 4. Repeat steps #2 and #3, this time with $5$ dice. How many actual words does this produce? Which produces more?\n",
    "\n",
    "- Successfully repreats steps (1).\n",
    "- Identifies parameter with most found words (1)."
   ]
  },
  {
   "cell_type": "code",
   "execution_count": 29,
   "id": "e3198f94-635b-4304-88e9-bfcea5d0cf5a",
   "metadata": {},
   "outputs": [
    {
     "data": {
      "text/html": [
       "<div>\n",
       "<style scoped>\n",
       "    .dataframe tbody tr th:only-of-type {\n",
       "        vertical-align: middle;\n",
       "    }\n",
       "\n",
       "    .dataframe tbody tr th {\n",
       "        vertical-align: top;\n",
       "    }\n",
       "\n",
       "    .dataframe thead th {\n",
       "        text-align: right;\n",
       "    }\n",
       "</style>\n",
       "<table border=\"1\" class=\"dataframe\">\n",
       "  <thead>\n",
       "    <tr style=\"text-align: right;\">\n",
       "      <th></th>\n",
       "      <th>0</th>\n",
       "      <th>1</th>\n",
       "      <th>2</th>\n",
       "      <th>3</th>\n",
       "      <th>4</th>\n",
       "    </tr>\n",
       "    <tr>\n",
       "      <th>Roll Number</th>\n",
       "      <th></th>\n",
       "      <th></th>\n",
       "      <th></th>\n",
       "      <th></th>\n",
       "      <th></th>\n",
       "    </tr>\n",
       "  </thead>\n",
       "  <tbody>\n",
       "    <tr>\n",
       "      <th>1</th>\n",
       "      <td>H</td>\n",
       "      <td>T</td>\n",
       "      <td>O</td>\n",
       "      <td>L</td>\n",
       "      <td>E</td>\n",
       "    </tr>\n",
       "    <tr>\n",
       "      <th>2</th>\n",
       "      <td>T</td>\n",
       "      <td>T</td>\n",
       "      <td>A</td>\n",
       "      <td>E</td>\n",
       "      <td>A</td>\n",
       "    </tr>\n",
       "    <tr>\n",
       "      <th>3</th>\n",
       "      <td>N</td>\n",
       "      <td>I</td>\n",
       "      <td>G</td>\n",
       "      <td>H</td>\n",
       "      <td>S</td>\n",
       "    </tr>\n",
       "    <tr>\n",
       "      <th>4</th>\n",
       "      <td>T</td>\n",
       "      <td>T</td>\n",
       "      <td>R</td>\n",
       "      <td>D</td>\n",
       "      <td>H</td>\n",
       "    </tr>\n",
       "    <tr>\n",
       "      <th>5</th>\n",
       "      <td>A</td>\n",
       "      <td>E</td>\n",
       "      <td>E</td>\n",
       "      <td>C</td>\n",
       "      <td>A</td>\n",
       "    </tr>\n",
       "    <tr>\n",
       "      <th>...</th>\n",
       "      <td>...</td>\n",
       "      <td>...</td>\n",
       "      <td>...</td>\n",
       "      <td>...</td>\n",
       "      <td>...</td>\n",
       "    </tr>\n",
       "    <tr>\n",
       "      <th>996</th>\n",
       "      <td>A</td>\n",
       "      <td>D</td>\n",
       "      <td>R</td>\n",
       "      <td>R</td>\n",
       "      <td>O</td>\n",
       "    </tr>\n",
       "    <tr>\n",
       "      <th>997</th>\n",
       "      <td>U</td>\n",
       "      <td>F</td>\n",
       "      <td>S</td>\n",
       "      <td>W</td>\n",
       "      <td>L</td>\n",
       "    </tr>\n",
       "    <tr>\n",
       "      <th>998</th>\n",
       "      <td>P</td>\n",
       "      <td>M</td>\n",
       "      <td>F</td>\n",
       "      <td>O</td>\n",
       "      <td>A</td>\n",
       "    </tr>\n",
       "    <tr>\n",
       "      <th>999</th>\n",
       "      <td>S</td>\n",
       "      <td>H</td>\n",
       "      <td>U</td>\n",
       "      <td>L</td>\n",
       "      <td>N</td>\n",
       "    </tr>\n",
       "    <tr>\n",
       "      <th>1000</th>\n",
       "      <td>H</td>\n",
       "      <td>Y</td>\n",
       "      <td>I</td>\n",
       "      <td>E</td>\n",
       "      <td>N</td>\n",
       "    </tr>\n",
       "  </tbody>\n",
       "</table>\n",
       "<p>1000 rows × 5 columns</p>\n",
       "</div>"
      ],
      "text/plain": [
       "             0  1  2  3  4\n",
       "Roll Number               \n",
       "1            H  T  O  L  E\n",
       "2            T  T  A  E  A\n",
       "3            N  I  G  H  S\n",
       "4            T  T  R  D  H\n",
       "5            A  E  E  C  A\n",
       "...         .. .. .. .. ..\n",
       "996          A  D  R  R  O\n",
       "997          U  F  S  W  L\n",
       "998          P  M  F  O  A\n",
       "999          S  H  U  L  N\n",
       "1000         H  Y  I  E  N\n",
       "\n",
       "[1000 rows x 5 columns]"
      ]
     },
     "execution_count": 29,
     "metadata": {},
     "output_type": "execute_result"
    }
   ],
   "source": [
    "letter_game2 = Game([letter_die,letter_die,letter_die,letter_die,letter_die])\n",
    "letter_game2.play(1000)\n",
    "letter_game2.show_result()"
   ]
  },
  {
   "cell_type": "code",
   "execution_count": 30,
   "id": "91d84fdf-be7c-4512-9266-b3f0ab26f367",
   "metadata": {
    "tags": []
   },
   "outputs": [
    {
     "data": {
      "text/plain": [
       "['AAELV', 'AANDR', 'AARAE', 'AARUB', 'AATNT']"
      ]
     },
     "execution_count": 30,
     "metadata": {},
     "output_type": "execute_result"
    }
   ],
   "source": [
    "letter_analyze2 = Analyzer(letter_game2)\n",
    "letter_result_df2 = letter_analyze2.count_permutation()\n",
    "letter_result_df2\n",
    "#Change MultiIndex into One Column\n",
    "perm_as_col2 = letter_analyze2.count_permutation().reset_index()\n",
    "perm_as_col2['Words'] = perm_as_col2[perm_as_col2.columns[:5]].apply(lambda x: ''.join(x.astype(str)),axis=1)\n",
    "#Create List of Column values\n",
    "perm_as_col_list2 = perm_as_col2['Words'].values.tolist()\n",
    "perm_as_col_list2[:5]"
   ]
  },
  {
   "cell_type": "code",
   "execution_count": 31,
   "id": "ba2c337a-4c03-425d-9082-c5695562d372",
   "metadata": {
    "tags": []
   },
   "outputs": [
    {
     "data": {
      "text/plain": [
       "['AAHED', 'AALII', 'AARGH', 'AARTI', 'ABACA']"
      ]
     },
     "execution_count": 31,
     "metadata": {},
     "output_type": "execute_result"
    }
   ],
   "source": [
    "scrabble_words_5=scrabble_words[scrabble_words.Words.apply(lambda x: len(str(x)))==5]\n",
    "#Make List of Column values\n",
    "scrabble_5_list = scrabble_words_5['Words'].values.tolist()\n",
    "scrabble_5_list[:5]"
   ]
  },
  {
   "cell_type": "code",
   "execution_count": 32,
   "id": "a780cc9c-7579-4b2f-bff0-36a84da3483d",
   "metadata": {
    "tags": []
   },
   "outputs": [
    {
     "name": "stdout",
     "output_type": "stream",
     "text": [
      "There are 6 five letter words created in the game that are recognized by Scrabble.\n"
     ]
    }
   ],
   "source": [
    "word_5_count=0\n",
    "for item in perm_as_col_list2:\n",
    "    if item in scrabble_5_list:\n",
    "        word_5_count = word_5_count + 1\n",
    "print(f\"There are {word_5_count} five letter words created in the game that are recognized by Scrabble.\")"
   ]
  },
  {
   "cell_type": "code",
   "execution_count": 33,
   "id": "ff2439dc-01aa-45b2-8ff6-61e33d01e412",
   "metadata": {
    "tags": []
   },
   "outputs": [
    {
     "name": "stdout",
     "output_type": "stream",
     "text": [
      "The game with 4 letters resulted in more words being found, with 44 more words than the 5 letter game.\n"
     ]
    }
   ],
   "source": [
    "if word_5_count > word_4_count:\n",
    "    diff_5_4 = word_5_count - word_4_count\n",
    "    print(f\"The game with 5 letters resulted in more words being found, with {diff_5_4} more words than the 4 letter game.\")\n",
    "elif word_4_count > word_5_count:\n",
    "    diff_4_5 = word_4_count - word_5_count\n",
    "    print(f\"The game with 4 letters resulted in more words being found, with {diff_4_5} more words than the 5 letter game.\")\n",
    "else:\n",
    "    print(\"Uh oh, something happened!\")"
   ]
  },
  {
   "cell_type": "markdown",
   "id": "c278a60d-a4dd-48df-8317-650185f7f0ca",
   "metadata": {},
   "source": [
    "# Submission"
   ]
  },
  {
   "cell_type": "markdown",
   "id": "a2b34ea0-96d3-4e0a-ac65-00a1cf287008",
   "metadata": {},
   "source": [
    "When finished completing the above tasks, save this file to your local repo (and within your project), and them push it to your GitHub repo.\n",
    "\n",
    "Then convert this file to a PDF and submit it to GradeScope according to the assignment instructions in Canvas."
   ]
  }
 ],
 "metadata": {
  "kernelspec": {
   "display_name": "Python 3 (ipykernel)",
   "language": "python",
   "name": "python3"
  },
  "language_info": {
   "codemirror_mode": {
    "name": "ipython",
    "version": 3
   },
   "file_extension": ".py",
   "mimetype": "text/x-python",
   "name": "python",
   "nbconvert_exporter": "python",
   "pygments_lexer": "ipython3",
   "version": "3.11.4"
  },
  "toc-autonumbering": true,
  "widgets": {
   "application/vnd.jupyter.widget-state+json": {
    "state": {},
    "version_major": 2,
    "version_minor": 0
   }
  }
 },
 "nbformat": 4,
 "nbformat_minor": 5
}
